{
 "cells": [
  {
   "cell_type": "code",
   "execution_count": 2,
   "metadata": {},
   "outputs": [],
   "source": [
    "import pandas as pd\n",
    "import json\n",
    "import websocket"
   ]
  },
  {
   "cell_type": "code",
   "execution_count": 18,
   "metadata": {},
   "outputs": [],
   "source": [
    "endpoint = \"wss://stream.binance.com:9443/ws\"\n",
    "\n",
    "request = json.dumps({\n",
    "    'method': 'SUBSCRIBE',\n",
    "    'params': ['ethusdt@miniTicker'],\n",
    "    'id':1\n",
    "})"
   ]
  },
  {
   "cell_type": "code",
   "execution_count": 21,
   "metadata": {},
   "outputs": [],
   "source": [
    "df = pd.DataFrame()\n",
    "position = False\n",
    "buy_orders, sell_orders = [], []\n",
    "\n",
    "def on_open(ws):\n",
    "    ws.send(request)\n",
    "\n",
    "def on_message(ws, message):\n",
    "    global df, position, buy_orders, sell_orders\n",
    "\n",
    "    out = json.loads(message)\n",
    "    out = pd.DataFrame({'price': float(out['c'])},\n",
    "                       index=[pd.to_datetime(out['E'], \n",
    "                                             unit='ms')])\n",
    "    \n",
    "    df = pd.concat([df,out], axis=0)\n",
    "    # print(df)\n",
    "    \n",
    "    df = df.tail(7) # so that memory doesn't crash\n",
    "    last_price = df.tail(1).price.values[0]\n",
    "    sma5 = df.price.rolling(5).mean().tail(1).values[0]\n",
    "    # print(f\"last price is {last_price}, sma5 is {sma5}\")\n",
    "    \n",
    "    # trading logic:\n",
    "    if not position and last_price > sma5:\n",
    "        buy_price = last_price\n",
    "        print(f\"bought for {last_price}\")\n",
    "        buy_orders.append(last_price)\n",
    "        position = True\n",
    "    \n",
    "    if position and last_price < sma5:\n",
    "        print(f\"sold for {last_price}\")\n",
    "        sell_orders.append(last_price)\n",
    "        position = False"
   ]
  },
  {
   "cell_type": "code",
   "execution_count": 22,
   "metadata": {},
   "outputs": [
    {
     "name": "stdout",
     "output_type": "stream",
     "text": [
      "bought for 2148.5\n",
      "sold for 2148.49\n",
      "bought for 2148.5\n",
      "sold for 2148.3\n",
      "bought for 2148.45\n",
      "sold for 2149.29\n"
     ]
    },
    {
     "data": {
      "text/plain": [
       "True"
      ]
     },
     "execution_count": 22,
     "metadata": {},
     "output_type": "execute_result"
    }
   ],
   "source": [
    "ws = websocket.WebSocketApp(endpoint,\n",
    "                            on_message=on_message,\n",
    "                            on_open=on_open)\n",
    "\n",
    "ws.run_forever()"
   ]
  }
 ],
 "metadata": {
  "kernelspec": {
   "display_name": "base",
   "language": "python",
   "name": "python3"
  },
  "language_info": {
   "codemirror_mode": {
    "name": "ipython",
    "version": 3
   },
   "file_extension": ".py",
   "mimetype": "text/x-python",
   "name": "python",
   "nbconvert_exporter": "python",
   "pygments_lexer": "ipython3",
   "version": "3.12.9"
  }
 },
 "nbformat": 4,
 "nbformat_minor": 2
}
